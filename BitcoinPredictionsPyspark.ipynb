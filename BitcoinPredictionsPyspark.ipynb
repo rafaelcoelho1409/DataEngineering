{
 "cells": [
  {
   "cell_type": "code",
   "execution_count": 1,
   "metadata": {},
   "outputs": [],
   "source": [
    "#Autor: Rafael Silva Coelho\n",
    "from pyspark.sql import SparkSession\n",
    "from pyspark.ml.feature import VectorAssembler\n",
    "from pyspark.ml.regression import GBTRegressor\n",
    "from pyspark.ml.tuning import ParamGridBuilder, CrossValidator\n",
    "from pyspark.ml.evaluation import RegressionEvaluator\n",
    "import pyspark.sql.types as T\n",
    "import pyspark.sql.functions as F\n",
    "import plotly.express as px\n",
    "import os\n",
    "import wget\n",
    "import datetime\n",
    "import calendar\n"
   ]
  },
  {
   "cell_type": "code",
   "execution_count": 2,
   "metadata": {},
   "outputs": [],
   "source": [
    "class BitcoinPrediction:\n",
    "    def __init__(self):\n",
    "        self.spark = SparkSession.builder.appName('BitcoinPredictions').getOrCreate()\n",
    "\n",
    "    def create_folder(self):\n",
    "        #Cria uma pasta para armazenar as informações sobre bitcoin\n",
    "        self.home = os.environ.get('HOME')\n",
    "        os.chdir(self.home)\n",
    "        if 'BitcoinPredictions' not in os.listdir(self.home):\n",
    "            os.mkdir('BitcoinPredictions')\n",
    "            os.chdir('BitcoinPredictions')\n",
    "        self.btc_path = f'{self.home}/BitcoinPredictions'\n",
    "\n",
    "    def get_data(self):\n",
    "        #Baixa um csv com os dados de bitcoin dentro de um período de 5 anos\n",
    "        os.chdir(self.btc_path)\n",
    "        now = datetime.datetime.now()\n",
    "        start_date = calendar.timegm((now.year - 5, now.month, now.day, 0, 0, 0))\n",
    "        end_date = calendar.timegm((now.year, now.month, now.day, 0, 0, 0))\n",
    "        url = f'https://query1.finance.yahoo.com/v7/finance/download/BTC-USD?period1={start_date}&period2={end_date}&interval=1d&events=history&includeAdjustedClose=true'\n",
    "        filename = 'BTC-USD.csv'\n",
    "        wget.download(url, filename)\n",
    "\n",
    "    def pyspark_model_data(self):\n",
    "        self.data = self.spark.read.csv('BTC-USD.csv', header = True, inferSchema = True)\n",
    "        self.data = self.data.withColumnRenamed('Close', 'label')\n",
    "        assembler = VectorAssembler(inputCols = ['Open', 'High', 'Low', 'Volume'], outputCol = 'features')\n",
    "        processed_data = assembler.transform(self.data)\n",
    "        train = processed_data.collect()[:-31]\n",
    "        test = processed_data.collect()[-31:]\n",
    "        self.train = self.spark.createDataFrame(train)\n",
    "        self.test = self.spark.createDataFrame(test)\n",
    "\n",
    "    def gradient_boosting(self):\n",
    "        self.evaluator = RegressionEvaluator()\n",
    "        self.model = GBTRegressor()\n",
    "        self.paramGrid = ParamGridBuilder().addGrid(self.model.maxDepth, [5,10,15,20,25]).build()\n",
    "        self.cv = CrossValidator(\n",
    "            estimator = self.model,\n",
    "            estimatorParamMaps = self.paramGrid,\n",
    "            evaluator = self.evaluator,\n",
    "            numFolds = 5)\n",
    "    \n",
    "    def train_model(self):\n",
    "        self.cv_model = self.cv.fit(self.train)\n",
    "        self.best_model = self.cv_model.bestModel\n",
    "\n",
    "    def predict(self):\n",
    "        self.predictions = self.best_model.transform(self.test)\n",
    "\n",
    "    def evaluate(self):\n",
    "        self.metrics = {}\n",
    "        for metric in ['mse', 'rmse', 'mae', 'r2']:\n",
    "            self.metrics[metric] = RegressionEvaluator(metricName = metric).evaluate(self.predictions)\n",
    "            print(f'{metric}: {self.metrics[metric]}')\n",
    "\n",
    "    def plotly_results(self):\n",
    "        plot_train = self.train.orderBy(self.train['Date'].desc()).limit(30).toPandas().sort_values(by = 'Date')\n",
    "        plot_test = self.test.toPandas()\n",
    "        plot_predicted = self.predictions.toPandas()[:-1]\n",
    "        plot_today_predicted = self.predictions.toPandas()[-2:]\n",
    "        plot_train = plot_train.append(plot_test.iloc[0], ignore_index = True)\n",
    "        self.fig1 = px.line(\n",
    "            plot_train.rename(columns = {'label': 'Treino'}), \n",
    "            x = 'Date', \n",
    "            y = 'Treino', \n",
    "            markers = True, \n",
    "            title = 'Valor do Bitcoin (em US$)')\n",
    "        self.fig1.data[0].line.color = '#0000ff'\n",
    "        self.fig2 = px.line(\n",
    "            plot_test.rename(columns = {'label': 'Teste'}), \n",
    "            x = 'Date', \n",
    "            y = 'Teste', \n",
    "            markers = True)\n",
    "        self.fig2.data[0].line.color = '#ff0000'\n",
    "        self.fig1 = self.fig1.add_trace(self.fig2.data[0])\n",
    "        self.fig3 = px.line(\n",
    "            plot_today_predicted.rename(columns = {'prediction': 'Predição de hoje'}), \n",
    "            x = 'Date', \n",
    "            y = 'Predição de hoje',\n",
    "            markers = True)\n",
    "        self.fig3.data[0].line.color = '#00ff00'\n",
    "        self.fig1 = self.fig1.add_trace(self.fig3.data[0])\n",
    "        self.fig4 = px.line(\n",
    "            plot_predicted.rename(columns = {'prediction': 'Predição de teste'}), \n",
    "            x = 'Date', \n",
    "            y = 'Predição de teste',\n",
    "            markers = True)\n",
    "        self.fig4.data[0].line.color = '#ffa500'\n",
    "        self.fig1 = self.fig1.add_trace(self.fig4.data[0])\n",
    "        self.fig1 = self.fig1.update_xaxes(title_text = 'Azul: Treino<br>Vermelho: Teste<br>Laranja: Predição de teste<br>Verde: Predição de hoje')\n",
    "        self.fig1 = self.fig1.update_yaxes(title_text = 'Valor (em US$)')\n",
    "        self.fig1 = self.fig1.update_traces(showlegend = True)\n",
    "\n",
    "    def save_plot(self):\n",
    "        os.chdir(self.btc_path)\n",
    "        self.date_path = '{}/{}'.format(self.btc_path, datetime.datetime.now().strftime('%Y-%m-%d'))\n",
    "        os.mkdir(self.date_path)\n",
    "        os.chdir(self.date_path)\n",
    "        self.fig1.write_html('final_plot.html')"
   ]
  },
  {
   "cell_type": "code",
   "execution_count": 3,
   "metadata": {},
   "outputs": [
    {
     "name": "stderr",
     "output_type": "stream",
     "text": [
      "22/04/05 14:31:24 WARN Utils: Your hostname, rafaelcoelho resolves to a loopback address: 127.0.1.1; using 192.168.1.6 instead (on interface wlo1)\n",
      "22/04/05 14:31:24 WARN Utils: Set SPARK_LOCAL_IP if you need to bind to another address\n",
      "WARNING: An illegal reflective access operation has occurred\n",
      "WARNING: Illegal reflective access by org.apache.spark.unsafe.Platform (file:/home/rafaelcoelho/%c3%81rea%20de%20Trabalho/Python/DataEngineering/dataeng_env/lib/python3.9/site-packages/pyspark/jars/spark-unsafe_2.12-3.2.1.jar) to constructor java.nio.DirectByteBuffer(long,int)\n",
      "WARNING: Please consider reporting this to the maintainers of org.apache.spark.unsafe.Platform\n",
      "WARNING: Use --illegal-access=warn to enable warnings of further illegal reflective access operations\n",
      "WARNING: All illegal access operations will be denied in a future release\n",
      "Using Spark's default log4j profile: org/apache/spark/log4j-defaults.properties\n",
      "Setting default log level to \"WARN\".\n",
      "To adjust logging level use sc.setLogLevel(newLevel). For SparkR, use setLogLevel(newLevel).\n",
      "22/04/05 14:31:24 WARN NativeCodeLoader: Unable to load native-hadoop library for your platform... using builtin-java classes where applicable\n"
     ]
    }
   ],
   "source": [
    "bp = BitcoinPrediction()"
   ]
  },
  {
   "cell_type": "code",
   "execution_count": 4,
   "metadata": {},
   "outputs": [],
   "source": [
    "bp.create_folder()"
   ]
  },
  {
   "cell_type": "code",
   "execution_count": 5,
   "metadata": {},
   "outputs": [],
   "source": [
    "bp.get_data()"
   ]
  },
  {
   "cell_type": "code",
   "execution_count": 6,
   "metadata": {},
   "outputs": [],
   "source": [
    "bp.pyspark_model_data()"
   ]
  },
  {
   "cell_type": "code",
   "execution_count": 7,
   "metadata": {},
   "outputs": [],
   "source": [
    "bp.gradient_boosting()"
   ]
  },
  {
   "cell_type": "code",
   "execution_count": 8,
   "metadata": {},
   "outputs": [
    {
     "name": "stderr",
     "output_type": "stream",
     "text": [
      "22/04/04 20:52:44 WARN DAGScheduler: Broadcasting large task binary with size 1002.5 KiB\n",
      "22/04/04 20:52:44 WARN DAGScheduler: Broadcasting large task binary with size 1010.6 KiB\n",
      "22/04/04 20:52:44 WARN DAGScheduler: Broadcasting large task binary with size 1019.3 KiB\n",
      "22/04/04 20:52:44 WARN DAGScheduler: Broadcasting large task binary with size 1027.5 KiB\n",
      "22/04/04 20:52:44 WARN DAGScheduler: Broadcasting large task binary with size 1034.9 KiB\n",
      "22/04/04 20:52:44 WARN DAGScheduler: Broadcasting large task binary with size 1007.0 KiB\n",
      "22/04/04 20:52:44 WARN DAGScheduler: Broadcasting large task binary with size 1007.6 KiB\n",
      "22/04/04 20:52:44 WARN DAGScheduler: Broadcasting large task binary with size 1008.2 KiB\n",
      "22/04/04 20:52:44 WARN DAGScheduler: Broadcasting large task binary with size 1009.2 KiB\n",
      "22/04/04 20:52:44 WARN DAGScheduler: Broadcasting large task binary with size 1010.9 KiB\n",
      "22/04/04 20:52:44 WARN DAGScheduler: Broadcasting large task binary with size 1014.3 KiB\n",
      "22/04/04 20:52:44 WARN DAGScheduler: Broadcasting large task binary with size 1019.7 KiB\n",
      "22/04/04 20:52:44 WARN DAGScheduler: Broadcasting large task binary with size 1027.0 KiB\n",
      "22/04/04 20:52:45 WARN DAGScheduler: Broadcasting large task binary with size 1034.8 KiB\n",
      "22/04/04 20:52:45 WARN DAGScheduler: Broadcasting large task binary with size 1041.1 KiB\n",
      "22/04/04 20:52:45 WARN DAGScheduler: Broadcasting large task binary with size 1047.7 KiB\n",
      "22/04/04 20:52:45 WARN DAGScheduler: Broadcasting large task binary with size 1055.5 KiB\n",
      "22/04/04 20:52:45 WARN DAGScheduler: Broadcasting large task binary with size 1065.5 KiB\n",
      "22/04/04 20:52:45 WARN DAGScheduler: Broadcasting large task binary with size 1077.5 KiB\n",
      "22/04/04 20:52:45 WARN DAGScheduler: Broadcasting large task binary with size 1089.3 KiB\n",
      "22/04/04 20:54:01 WARN DAGScheduler: Broadcasting large task binary with size 1004.1 KiB\n"
     ]
    }
   ],
   "source": [
    "bp.train_model()"
   ]
  },
  {
   "cell_type": "code",
   "execution_count": 9,
   "metadata": {},
   "outputs": [],
   "source": [
    "bp.predict()"
   ]
  },
  {
   "cell_type": "code",
   "execution_count": 10,
   "metadata": {},
   "outputs": [
    {
     "name": "stdout",
     "output_type": "stream",
     "text": [
      "mse: 2522440.851309944\n",
      "rmse: 1588.2193964657226\n",
      "mae: 1253.996137472642\n",
      "r2: 0.7424223261030614\n"
     ]
    }
   ],
   "source": [
    "bp.evaluate()"
   ]
  },
  {
   "cell_type": "code",
   "execution_count": 12,
   "metadata": {},
   "outputs": [
    {
     "name": "stderr",
     "output_type": "stream",
     "text": [
      "/tmp/ipykernel_32051/947022647.py:62: FutureWarning: The frame.append method is deprecated and will be removed from pandas in a future version. Use pandas.concat instead.\n",
      "  plot_train = plot_train.append(plot_test.iloc[0], ignore_index = True)\n"
     ]
    }
   ],
   "source": [
    "bp.plotly_results()"
   ]
  },
  {
   "cell_type": "code",
   "execution_count": 13,
   "metadata": {},
   "outputs": [
    {
     "ename": "ValueError",
     "evalue": "Failed to start Kaleido subprocess. Error stream:\n\n/home/rafaelcoelho/Área de Trabalho/Python/DataEngineering/dataeng_env/lib/python3.9/site-packages/kaleido/executable/kaleido: linha 9: cd: número excessivo de argumentos\n/home/rafaelcoelho/Área de Trabalho/Python/DataEngineering/dataeng_env/lib/python3.9/site-packages/kaleido/executable/kaleido: linha 10: ./bin/kaleido: Arquivo ou diretório inexistente\n",
     "output_type": "error",
     "traceback": [
      "\u001b[0;31m---------------------------------------------------------------------------\u001b[0m",
      "\u001b[0;31mValueError\u001b[0m                                Traceback (most recent call last)",
      "\u001b[1;32m/home/rafaelcoelho/Área de Trabalho/Python/DataEngineering/BitcoinPredictionsPyspark.ipynb Cell 12'\u001b[0m in \u001b[0;36m<cell line: 1>\u001b[0;34m()\u001b[0m\n\u001b[0;32m----> <a href='vscode-notebook-cell:/home/rafaelcoelho/%C3%81rea%20de%20Trabalho/Python/DataEngineering/BitcoinPredictionsPyspark.ipynb#ch0000011?line=0'>1</a>\u001b[0m bp\u001b[39m.\u001b[39;49msave_plot()\n",
      "\u001b[1;32m/home/rafaelcoelho/Área de Trabalho/Python/DataEngineering/BitcoinPredictionsPyspark.ipynb Cell 2'\u001b[0m in \u001b[0;36mBitcoinPrediction.save_plot\u001b[0;34m(self)\u001b[0m\n\u001b[1;32m     <a href='vscode-notebook-cell:/home/rafaelcoelho/%C3%81rea%20de%20Trabalho/Python/DataEngineering/BitcoinPredictionsPyspark.ipynb#ch0000001?line=98'>99</a>\u001b[0m os\u001b[39m.\u001b[39mchdir(\u001b[39mself\u001b[39m\u001b[39m.\u001b[39mdate_path)\n\u001b[1;32m    <a href='vscode-notebook-cell:/home/rafaelcoelho/%C3%81rea%20de%20Trabalho/Python/DataEngineering/BitcoinPredictionsPyspark.ipynb#ch0000001?line=99'>100</a>\u001b[0m \u001b[39mself\u001b[39m\u001b[39m.\u001b[39mfig1\u001b[39m.\u001b[39mwrite_html(\u001b[39m'\u001b[39m\u001b[39mfinal_plot.html\u001b[39m\u001b[39m'\u001b[39m)\n\u001b[0;32m--> <a href='vscode-notebook-cell:/home/rafaelcoelho/%C3%81rea%20de%20Trabalho/Python/DataEngineering/BitcoinPredictionsPyspark.ipynb#ch0000001?line=100'>101</a>\u001b[0m \u001b[39mself\u001b[39;49m\u001b[39m.\u001b[39;49mfig1\u001b[39m.\u001b[39;49mwrite_image(\u001b[39m'\u001b[39;49m\u001b[39mfinal_plot.png\u001b[39;49m\u001b[39m'\u001b[39;49m)\n",
      "File \u001b[0;32m~/Área de Trabalho/Python/DataEngineering/dataeng_env/lib/python3.9/site-packages/plotly/basedatatypes.py:3829\u001b[0m, in \u001b[0;36mBaseFigure.write_image\u001b[0;34m(self, *args, **kwargs)\u001b[0m\n\u001b[1;32m   <a href='file:///home/rafaelcoelho/%C3%81rea%20de%20Trabalho/Python/DataEngineering/dataeng_env/lib/python3.9/site-packages/plotly/basedatatypes.py?line=3768'>3769</a>\u001b[0m \u001b[39m\"\"\"\u001b[39;00m\n\u001b[1;32m   <a href='file:///home/rafaelcoelho/%C3%81rea%20de%20Trabalho/Python/DataEngineering/dataeng_env/lib/python3.9/site-packages/plotly/basedatatypes.py?line=3769'>3770</a>\u001b[0m \u001b[39mConvert a figure to a static image and write it to a file or writeable\u001b[39;00m\n\u001b[1;32m   <a href='file:///home/rafaelcoelho/%C3%81rea%20de%20Trabalho/Python/DataEngineering/dataeng_env/lib/python3.9/site-packages/plotly/basedatatypes.py?line=3770'>3771</a>\u001b[0m \u001b[39mobject\u001b[39;00m\n\u001b[0;32m   (...)\u001b[0m\n\u001b[1;32m   <a href='file:///home/rafaelcoelho/%C3%81rea%20de%20Trabalho/Python/DataEngineering/dataeng_env/lib/python3.9/site-packages/plotly/basedatatypes.py?line=3824'>3825</a>\u001b[0m \u001b[39mNone\u001b[39;00m\n\u001b[1;32m   <a href='file:///home/rafaelcoelho/%C3%81rea%20de%20Trabalho/Python/DataEngineering/dataeng_env/lib/python3.9/site-packages/plotly/basedatatypes.py?line=3825'>3826</a>\u001b[0m \u001b[39m\"\"\"\u001b[39;00m\n\u001b[1;32m   <a href='file:///home/rafaelcoelho/%C3%81rea%20de%20Trabalho/Python/DataEngineering/dataeng_env/lib/python3.9/site-packages/plotly/basedatatypes.py?line=3826'>3827</a>\u001b[0m \u001b[39mimport\u001b[39;00m \u001b[39mplotly\u001b[39;00m\u001b[39m.\u001b[39;00m\u001b[39mio\u001b[39;00m \u001b[39mas\u001b[39;00m \u001b[39mpio\u001b[39;00m\n\u001b[0;32m-> <a href='file:///home/rafaelcoelho/%C3%81rea%20de%20Trabalho/Python/DataEngineering/dataeng_env/lib/python3.9/site-packages/plotly/basedatatypes.py?line=3828'>3829</a>\u001b[0m \u001b[39mreturn\u001b[39;00m pio\u001b[39m.\u001b[39;49mwrite_image(\u001b[39mself\u001b[39;49m, \u001b[39m*\u001b[39;49margs, \u001b[39m*\u001b[39;49m\u001b[39m*\u001b[39;49mkwargs)\n",
      "File \u001b[0;32m~/Área de Trabalho/Python/DataEngineering/dataeng_env/lib/python3.9/site-packages/plotly/io/_kaleido.py:268\u001b[0m, in \u001b[0;36mwrite_image\u001b[0;34m(fig, file, format, scale, width, height, validate, engine)\u001b[0m\n\u001b[1;32m    <a href='file:///home/rafaelcoelho/%C3%81rea%20de%20Trabalho/Python/DataEngineering/dataeng_env/lib/python3.9/site-packages/plotly/io/_kaleido.py?line=251'>252</a>\u001b[0m             \u001b[39mraise\u001b[39;00m \u001b[39mValueError\u001b[39;00m(\n\u001b[1;32m    <a href='file:///home/rafaelcoelho/%C3%81rea%20de%20Trabalho/Python/DataEngineering/dataeng_env/lib/python3.9/site-packages/plotly/io/_kaleido.py?line=252'>253</a>\u001b[0m                 \u001b[39m\"\"\"\u001b[39;00m\n\u001b[1;32m    <a href='file:///home/rafaelcoelho/%C3%81rea%20de%20Trabalho/Python/DataEngineering/dataeng_env/lib/python3.9/site-packages/plotly/io/_kaleido.py?line=253'>254</a>\u001b[0m \u001b[39mCannot infer image type from output path '{file}'.\u001b[39;00m\n\u001b[0;32m   (...)\u001b[0m\n\u001b[1;32m    <a href='file:///home/rafaelcoelho/%C3%81rea%20de%20Trabalho/Python/DataEngineering/dataeng_env/lib/python3.9/site-packages/plotly/io/_kaleido.py?line=261'>262</a>\u001b[0m                 )\n\u001b[1;32m    <a href='file:///home/rafaelcoelho/%C3%81rea%20de%20Trabalho/Python/DataEngineering/dataeng_env/lib/python3.9/site-packages/plotly/io/_kaleido.py?line=262'>263</a>\u001b[0m             )\n\u001b[1;32m    <a href='file:///home/rafaelcoelho/%C3%81rea%20de%20Trabalho/Python/DataEngineering/dataeng_env/lib/python3.9/site-packages/plotly/io/_kaleido.py?line=264'>265</a>\u001b[0m     \u001b[39m# Request image\u001b[39;00m\n\u001b[1;32m    <a href='file:///home/rafaelcoelho/%C3%81rea%20de%20Trabalho/Python/DataEngineering/dataeng_env/lib/python3.9/site-packages/plotly/io/_kaleido.py?line=265'>266</a>\u001b[0m     \u001b[39m# -------------\u001b[39;00m\n\u001b[1;32m    <a href='file:///home/rafaelcoelho/%C3%81rea%20de%20Trabalho/Python/DataEngineering/dataeng_env/lib/python3.9/site-packages/plotly/io/_kaleido.py?line=266'>267</a>\u001b[0m     \u001b[39m# Do this first so we don't create a file if image conversion fails\u001b[39;00m\n\u001b[0;32m--> <a href='file:///home/rafaelcoelho/%C3%81rea%20de%20Trabalho/Python/DataEngineering/dataeng_env/lib/python3.9/site-packages/plotly/io/_kaleido.py?line=267'>268</a>\u001b[0m     img_data \u001b[39m=\u001b[39m to_image(\n\u001b[1;32m    <a href='file:///home/rafaelcoelho/%C3%81rea%20de%20Trabalho/Python/DataEngineering/dataeng_env/lib/python3.9/site-packages/plotly/io/_kaleido.py?line=268'>269</a>\u001b[0m         fig,\n\u001b[1;32m    <a href='file:///home/rafaelcoelho/%C3%81rea%20de%20Trabalho/Python/DataEngineering/dataeng_env/lib/python3.9/site-packages/plotly/io/_kaleido.py?line=269'>270</a>\u001b[0m         \u001b[39mformat\u001b[39;49m\u001b[39m=\u001b[39;49m\u001b[39mformat\u001b[39;49m,\n\u001b[1;32m    <a href='file:///home/rafaelcoelho/%C3%81rea%20de%20Trabalho/Python/DataEngineering/dataeng_env/lib/python3.9/site-packages/plotly/io/_kaleido.py?line=270'>271</a>\u001b[0m         scale\u001b[39m=\u001b[39;49mscale,\n\u001b[1;32m    <a href='file:///home/rafaelcoelho/%C3%81rea%20de%20Trabalho/Python/DataEngineering/dataeng_env/lib/python3.9/site-packages/plotly/io/_kaleido.py?line=271'>272</a>\u001b[0m         width\u001b[39m=\u001b[39;49mwidth,\n\u001b[1;32m    <a href='file:///home/rafaelcoelho/%C3%81rea%20de%20Trabalho/Python/DataEngineering/dataeng_env/lib/python3.9/site-packages/plotly/io/_kaleido.py?line=272'>273</a>\u001b[0m         height\u001b[39m=\u001b[39;49mheight,\n\u001b[1;32m    <a href='file:///home/rafaelcoelho/%C3%81rea%20de%20Trabalho/Python/DataEngineering/dataeng_env/lib/python3.9/site-packages/plotly/io/_kaleido.py?line=273'>274</a>\u001b[0m         validate\u001b[39m=\u001b[39;49mvalidate,\n\u001b[1;32m    <a href='file:///home/rafaelcoelho/%C3%81rea%20de%20Trabalho/Python/DataEngineering/dataeng_env/lib/python3.9/site-packages/plotly/io/_kaleido.py?line=274'>275</a>\u001b[0m         engine\u001b[39m=\u001b[39;49mengine,\n\u001b[1;32m    <a href='file:///home/rafaelcoelho/%C3%81rea%20de%20Trabalho/Python/DataEngineering/dataeng_env/lib/python3.9/site-packages/plotly/io/_kaleido.py?line=275'>276</a>\u001b[0m     )\n\u001b[1;32m    <a href='file:///home/rafaelcoelho/%C3%81rea%20de%20Trabalho/Python/DataEngineering/dataeng_env/lib/python3.9/site-packages/plotly/io/_kaleido.py?line=277'>278</a>\u001b[0m     \u001b[39m# Open file\u001b[39;00m\n\u001b[1;32m    <a href='file:///home/rafaelcoelho/%C3%81rea%20de%20Trabalho/Python/DataEngineering/dataeng_env/lib/python3.9/site-packages/plotly/io/_kaleido.py?line=278'>279</a>\u001b[0m     \u001b[39m# ---------\u001b[39;00m\n\u001b[1;32m    <a href='file:///home/rafaelcoelho/%C3%81rea%20de%20Trabalho/Python/DataEngineering/dataeng_env/lib/python3.9/site-packages/plotly/io/_kaleido.py?line=279'>280</a>\u001b[0m     \u001b[39mif\u001b[39;00m path \u001b[39mis\u001b[39;00m \u001b[39mNone\u001b[39;00m:\n\u001b[1;32m    <a href='file:///home/rafaelcoelho/%C3%81rea%20de%20Trabalho/Python/DataEngineering/dataeng_env/lib/python3.9/site-packages/plotly/io/_kaleido.py?line=280'>281</a>\u001b[0m         \u001b[39m# We previously failed to make sense of `file` as a pathlib object.\u001b[39;00m\n\u001b[1;32m    <a href='file:///home/rafaelcoelho/%C3%81rea%20de%20Trabalho/Python/DataEngineering/dataeng_env/lib/python3.9/site-packages/plotly/io/_kaleido.py?line=281'>282</a>\u001b[0m         \u001b[39m# Attempt to write to `file` as an open file descriptor.\u001b[39;00m\n",
      "File \u001b[0;32m~/Área de Trabalho/Python/DataEngineering/dataeng_env/lib/python3.9/site-packages/plotly/io/_kaleido.py:145\u001b[0m, in \u001b[0;36mto_image\u001b[0;34m(fig, format, width, height, scale, validate, engine)\u001b[0m\n\u001b[1;32m    <a href='file:///home/rafaelcoelho/%C3%81rea%20de%20Trabalho/Python/DataEngineering/dataeng_env/lib/python3.9/site-packages/plotly/io/_kaleido.py?line=141'>142</a>\u001b[0m \u001b[39m# Validate figure\u001b[39;00m\n\u001b[1;32m    <a href='file:///home/rafaelcoelho/%C3%81rea%20de%20Trabalho/Python/DataEngineering/dataeng_env/lib/python3.9/site-packages/plotly/io/_kaleido.py?line=142'>143</a>\u001b[0m \u001b[39m# ---------------\u001b[39;00m\n\u001b[1;32m    <a href='file:///home/rafaelcoelho/%C3%81rea%20de%20Trabalho/Python/DataEngineering/dataeng_env/lib/python3.9/site-packages/plotly/io/_kaleido.py?line=143'>144</a>\u001b[0m fig_dict \u001b[39m=\u001b[39m validate_coerce_fig_to_dict(fig, validate)\n\u001b[0;32m--> <a href='file:///home/rafaelcoelho/%C3%81rea%20de%20Trabalho/Python/DataEngineering/dataeng_env/lib/python3.9/site-packages/plotly/io/_kaleido.py?line=144'>145</a>\u001b[0m img_bytes \u001b[39m=\u001b[39m scope\u001b[39m.\u001b[39;49mtransform(\n\u001b[1;32m    <a href='file:///home/rafaelcoelho/%C3%81rea%20de%20Trabalho/Python/DataEngineering/dataeng_env/lib/python3.9/site-packages/plotly/io/_kaleido.py?line=145'>146</a>\u001b[0m     fig_dict, \u001b[39mformat\u001b[39;49m\u001b[39m=\u001b[39;49m\u001b[39mformat\u001b[39;49m, width\u001b[39m=\u001b[39;49mwidth, height\u001b[39m=\u001b[39;49mheight, scale\u001b[39m=\u001b[39;49mscale\n\u001b[1;32m    <a href='file:///home/rafaelcoelho/%C3%81rea%20de%20Trabalho/Python/DataEngineering/dataeng_env/lib/python3.9/site-packages/plotly/io/_kaleido.py?line=146'>147</a>\u001b[0m )\n\u001b[1;32m    <a href='file:///home/rafaelcoelho/%C3%81rea%20de%20Trabalho/Python/DataEngineering/dataeng_env/lib/python3.9/site-packages/plotly/io/_kaleido.py?line=148'>149</a>\u001b[0m \u001b[39mreturn\u001b[39;00m img_bytes\n",
      "File \u001b[0;32m~/Área de Trabalho/Python/DataEngineering/dataeng_env/lib/python3.9/site-packages/kaleido/scopes/plotly.py:153\u001b[0m, in \u001b[0;36mPlotlyScope.transform\u001b[0;34m(self, figure, format, width, height, scale)\u001b[0m\n\u001b[1;32m    <a href='file:///home/rafaelcoelho/%C3%81rea%20de%20Trabalho/Python/DataEngineering/dataeng_env/lib/python3.9/site-packages/kaleido/scopes/plotly.py?line=141'>142</a>\u001b[0m     \u001b[39mraise\u001b[39;00m \u001b[39mValueError\u001b[39;00m(\n\u001b[1;32m    <a href='file:///home/rafaelcoelho/%C3%81rea%20de%20Trabalho/Python/DataEngineering/dataeng_env/lib/python3.9/site-packages/kaleido/scopes/plotly.py?line=142'>143</a>\u001b[0m         \u001b[39m\"\u001b[39m\u001b[39mInvalid format \u001b[39m\u001b[39m'\u001b[39m\u001b[39m{original_format}\u001b[39;00m\u001b[39m'\u001b[39m\u001b[39m.\u001b[39m\u001b[39m\\n\u001b[39;00m\u001b[39m\"\u001b[39m\n\u001b[1;32m    <a href='file:///home/rafaelcoelho/%C3%81rea%20de%20Trabalho/Python/DataEngineering/dataeng_env/lib/python3.9/site-packages/kaleido/scopes/plotly.py?line=143'>144</a>\u001b[0m         \u001b[39m\"\u001b[39m\u001b[39m    Supported formats: \u001b[39m\u001b[39m{supported_formats_str}\u001b[39;00m\u001b[39m\"\u001b[39m\n\u001b[0;32m   (...)\u001b[0m\n\u001b[1;32m    <a href='file:///home/rafaelcoelho/%C3%81rea%20de%20Trabalho/Python/DataEngineering/dataeng_env/lib/python3.9/site-packages/kaleido/scopes/plotly.py?line=147'>148</a>\u001b[0m         )\n\u001b[1;32m    <a href='file:///home/rafaelcoelho/%C3%81rea%20de%20Trabalho/Python/DataEngineering/dataeng_env/lib/python3.9/site-packages/kaleido/scopes/plotly.py?line=148'>149</a>\u001b[0m     )\n\u001b[1;32m    <a href='file:///home/rafaelcoelho/%C3%81rea%20de%20Trabalho/Python/DataEngineering/dataeng_env/lib/python3.9/site-packages/kaleido/scopes/plotly.py?line=150'>151</a>\u001b[0m \u001b[39m# Transform in using _perform_transform rather than superclass so we can access the full\u001b[39;00m\n\u001b[1;32m    <a href='file:///home/rafaelcoelho/%C3%81rea%20de%20Trabalho/Python/DataEngineering/dataeng_env/lib/python3.9/site-packages/kaleido/scopes/plotly.py?line=151'>152</a>\u001b[0m \u001b[39m# response dict, including error codes.\u001b[39;00m\n\u001b[0;32m--> <a href='file:///home/rafaelcoelho/%C3%81rea%20de%20Trabalho/Python/DataEngineering/dataeng_env/lib/python3.9/site-packages/kaleido/scopes/plotly.py?line=152'>153</a>\u001b[0m response \u001b[39m=\u001b[39m \u001b[39mself\u001b[39;49m\u001b[39m.\u001b[39;49m_perform_transform(\n\u001b[1;32m    <a href='file:///home/rafaelcoelho/%C3%81rea%20de%20Trabalho/Python/DataEngineering/dataeng_env/lib/python3.9/site-packages/kaleido/scopes/plotly.py?line=153'>154</a>\u001b[0m     figure, \u001b[39mformat\u001b[39;49m\u001b[39m=\u001b[39;49m\u001b[39mformat\u001b[39;49m, width\u001b[39m=\u001b[39;49mwidth, height\u001b[39m=\u001b[39;49mheight, scale\u001b[39m=\u001b[39;49mscale\n\u001b[1;32m    <a href='file:///home/rafaelcoelho/%C3%81rea%20de%20Trabalho/Python/DataEngineering/dataeng_env/lib/python3.9/site-packages/kaleido/scopes/plotly.py?line=154'>155</a>\u001b[0m )\n\u001b[1;32m    <a href='file:///home/rafaelcoelho/%C3%81rea%20de%20Trabalho/Python/DataEngineering/dataeng_env/lib/python3.9/site-packages/kaleido/scopes/plotly.py?line=156'>157</a>\u001b[0m \u001b[39m# Check for export error, later can customize error messages for plotly Python users\u001b[39;00m\n\u001b[1;32m    <a href='file:///home/rafaelcoelho/%C3%81rea%20de%20Trabalho/Python/DataEngineering/dataeng_env/lib/python3.9/site-packages/kaleido/scopes/plotly.py?line=157'>158</a>\u001b[0m code \u001b[39m=\u001b[39m response\u001b[39m.\u001b[39mget(\u001b[39m\"\u001b[39m\u001b[39mcode\u001b[39m\u001b[39m\"\u001b[39m, \u001b[39m0\u001b[39m)\n",
      "File \u001b[0;32m~/Área de Trabalho/Python/DataEngineering/dataeng_env/lib/python3.9/site-packages/kaleido/scopes/base.py:293\u001b[0m, in \u001b[0;36mBaseScope._perform_transform\u001b[0;34m(self, data, **kwargs)\u001b[0m\n\u001b[1;32m    <a href='file:///home/rafaelcoelho/%C3%81rea%20de%20Trabalho/Python/DataEngineering/dataeng_env/lib/python3.9/site-packages/kaleido/scopes/base.py?line=283'>284</a>\u001b[0m \u001b[39m\"\"\"\u001b[39;00m\n\u001b[1;32m    <a href='file:///home/rafaelcoelho/%C3%81rea%20de%20Trabalho/Python/DataEngineering/dataeng_env/lib/python3.9/site-packages/kaleido/scopes/base.py?line=284'>285</a>\u001b[0m \u001b[39mTransform input data using the current scope, returning dict response with error code\u001b[39;00m\n\u001b[1;32m    <a href='file:///home/rafaelcoelho/%C3%81rea%20de%20Trabalho/Python/DataEngineering/dataeng_env/lib/python3.9/site-packages/kaleido/scopes/base.py?line=285'>286</a>\u001b[0m \u001b[39mwhether successful or not.\u001b[39;00m\n\u001b[0;32m   (...)\u001b[0m\n\u001b[1;32m    <a href='file:///home/rafaelcoelho/%C3%81rea%20de%20Trabalho/Python/DataEngineering/dataeng_env/lib/python3.9/site-packages/kaleido/scopes/base.py?line=289'>290</a>\u001b[0m \u001b[39m:return: Dict of response from Kaleido executable, whether successful or not\u001b[39;00m\n\u001b[1;32m    <a href='file:///home/rafaelcoelho/%C3%81rea%20de%20Trabalho/Python/DataEngineering/dataeng_env/lib/python3.9/site-packages/kaleido/scopes/base.py?line=290'>291</a>\u001b[0m \u001b[39m\"\"\"\u001b[39;00m\n\u001b[1;32m    <a href='file:///home/rafaelcoelho/%C3%81rea%20de%20Trabalho/Python/DataEngineering/dataeng_env/lib/python3.9/site-packages/kaleido/scopes/base.py?line=291'>292</a>\u001b[0m \u001b[39m# Ensure that kaleido subprocess is running\u001b[39;00m\n\u001b[0;32m--> <a href='file:///home/rafaelcoelho/%C3%81rea%20de%20Trabalho/Python/DataEngineering/dataeng_env/lib/python3.9/site-packages/kaleido/scopes/base.py?line=292'>293</a>\u001b[0m \u001b[39mself\u001b[39;49m\u001b[39m.\u001b[39;49m_ensure_kaleido()\n\u001b[1;32m    <a href='file:///home/rafaelcoelho/%C3%81rea%20de%20Trabalho/Python/DataEngineering/dataeng_env/lib/python3.9/site-packages/kaleido/scopes/base.py?line=294'>295</a>\u001b[0m \u001b[39m# Perform export\u001b[39;00m\n\u001b[1;32m    <a href='file:///home/rafaelcoelho/%C3%81rea%20de%20Trabalho/Python/DataEngineering/dataeng_env/lib/python3.9/site-packages/kaleido/scopes/base.py?line=295'>296</a>\u001b[0m export_spec \u001b[39m=\u001b[39m \u001b[39mself\u001b[39m\u001b[39m.\u001b[39m_json_dumps(\u001b[39mdict\u001b[39m(kwargs, data\u001b[39m=\u001b[39mdata))\u001b[39m.\u001b[39mencode(\u001b[39m'\u001b[39m\u001b[39mutf-8\u001b[39m\u001b[39m'\u001b[39m)\n",
      "File \u001b[0;32m~/Área de Trabalho/Python/DataEngineering/dataeng_env/lib/python3.9/site-packages/kaleido/scopes/base.py:198\u001b[0m, in \u001b[0;36mBaseScope._ensure_kaleido\u001b[0;34m(self)\u001b[0m\n\u001b[1;32m    <a href='file:///home/rafaelcoelho/%C3%81rea%20de%20Trabalho/Python/DataEngineering/dataeng_env/lib/python3.9/site-packages/kaleido/scopes/base.py?line=192'>193</a>\u001b[0m \u001b[39mif\u001b[39;00m \u001b[39mnot\u001b[39;00m startup_response_string:\n\u001b[1;32m    <a href='file:///home/rafaelcoelho/%C3%81rea%20de%20Trabalho/Python/DataEngineering/dataeng_env/lib/python3.9/site-packages/kaleido/scopes/base.py?line=193'>194</a>\u001b[0m     message \u001b[39m=\u001b[39m (\n\u001b[1;32m    <a href='file:///home/rafaelcoelho/%C3%81rea%20de%20Trabalho/Python/DataEngineering/dataeng_env/lib/python3.9/site-packages/kaleido/scopes/base.py?line=194'>195</a>\u001b[0m         \u001b[39m\"\u001b[39m\u001b[39mFailed to start Kaleido subprocess. Error stream:\u001b[39m\u001b[39m\\n\u001b[39;00m\u001b[39m\\n\u001b[39;00m\u001b[39m\"\u001b[39m \u001b[39m+\u001b[39m\n\u001b[1;32m    <a href='file:///home/rafaelcoelho/%C3%81rea%20de%20Trabalho/Python/DataEngineering/dataeng_env/lib/python3.9/site-packages/kaleido/scopes/base.py?line=195'>196</a>\u001b[0m         \u001b[39mself\u001b[39m\u001b[39m.\u001b[39m_get_decoded_std_error()\n\u001b[1;32m    <a href='file:///home/rafaelcoelho/%C3%81rea%20de%20Trabalho/Python/DataEngineering/dataeng_env/lib/python3.9/site-packages/kaleido/scopes/base.py?line=196'>197</a>\u001b[0m     )\n\u001b[0;32m--> <a href='file:///home/rafaelcoelho/%C3%81rea%20de%20Trabalho/Python/DataEngineering/dataeng_env/lib/python3.9/site-packages/kaleido/scopes/base.py?line=197'>198</a>\u001b[0m     \u001b[39mraise\u001b[39;00m \u001b[39mValueError\u001b[39;00m(message)\n\u001b[1;32m    <a href='file:///home/rafaelcoelho/%C3%81rea%20de%20Trabalho/Python/DataEngineering/dataeng_env/lib/python3.9/site-packages/kaleido/scopes/base.py?line=198'>199</a>\u001b[0m \u001b[39melse\u001b[39;00m:\n\u001b[1;32m    <a href='file:///home/rafaelcoelho/%C3%81rea%20de%20Trabalho/Python/DataEngineering/dataeng_env/lib/python3.9/site-packages/kaleido/scopes/base.py?line=199'>200</a>\u001b[0m     startup_response \u001b[39m=\u001b[39m json\u001b[39m.\u001b[39mloads(startup_response_string)\n",
      "\u001b[0;31mValueError\u001b[0m: Failed to start Kaleido subprocess. Error stream:\n\n/home/rafaelcoelho/Área de Trabalho/Python/DataEngineering/dataeng_env/lib/python3.9/site-packages/kaleido/executable/kaleido: linha 9: cd: número excessivo de argumentos\n/home/rafaelcoelho/Área de Trabalho/Python/DataEngineering/dataeng_env/lib/python3.9/site-packages/kaleido/executable/kaleido: linha 10: ./bin/kaleido: Arquivo ou diretório inexistente\n"
     ]
    }
   ],
   "source": [
    "bp.save_plot()"
   ]
  }
 ],
 "metadata": {
  "interpreter": {
   "hash": "b8f78a9919d599d97ecfec7a99687676689357b6c2b9d7c2a60cb1e0aac382af"
  },
  "kernelspec": {
   "display_name": "Python 3.9.7 ('dataeng_env': venv)",
   "language": "python",
   "name": "python3"
  },
  "language_info": {
   "codemirror_mode": {
    "name": "ipython",
    "version": 3
   },
   "file_extension": ".py",
   "mimetype": "text/x-python",
   "name": "python",
   "nbconvert_exporter": "python",
   "pygments_lexer": "ipython3",
   "version": "3.9.7"
  },
  "orig_nbformat": 4
 },
 "nbformat": 4,
 "nbformat_minor": 2
}
